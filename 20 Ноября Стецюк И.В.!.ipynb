{
  "cells": [
    {
      "cell_type": "markdown",
      "metadata": {
        "id": "view-in-github",
        "colab_type": "text"
      },
      "source": [
        "<a href=\"https://colab.research.google.com/github/riseex1/bybalex/blob/main/20%20%D0%9D%D0%BE%D1%8F%D0%B1%D1%80%D1%8F%20%D0%A1%D1%82%D0%B5%D1%86%D1%8E%D0%BA%20%D0%98.%D0%92.!.ipynb\" target=\"_parent\"><img src=\"https://colab.research.google.com/assets/colab-badge.svg\" alt=\"Open In Colab\"/></a>"
      ]
    },
    {
      "cell_type": "markdown",
      "source": [
        "1 задание"
      ],
      "metadata": {
        "id": "Hc9LPTU8ZCUy"
      }
    },
    {
      "cell_type": "code",
      "source": [
        "numbers = []\n",
        "squares = []\n",
        "cubes = []\n",
        "\n",
        "for i in range(1, 11):\n",
        "    numbers.append(i)\n",
        "    squares.append(i ** 2)\n",
        "    cubes.append(i ** 3)\n",
        "\n",
        "print(\"Числа от 1 до 10:\", numbers)\n",
        "print(\"Квадраты чисел:\", squares)\n",
        "print(\"Кубы чисел:\", cubes)\n"
      ],
      "metadata": {
        "id": "ZNwwxiPYZENz"
      },
      "execution_count": null,
      "outputs": []
    },
    {
      "cell_type": "markdown",
      "source": [
        "2 задание"
      ],
      "metadata": {
        "id": "Pm_WKinBdNil"
      }
    },
    {
      "cell_type": "code",
      "source": [
        "\n",
        "numbers = []\n",
        "\n",
        "while True:\n",
        "    num = int(input(\"Введите число (0 для завершения): \"))\n",
        "    if num == 0:\n",
        "        break\n",
        "    numbers.append(num)\n",
        "\n",
        "if numbers:\n",
        "\n",
        "    min_value = min(numbers)\n",
        "    print(f\"Минимальное значение: {min_value}\")\n",
        "\n",
        "    max_value = max(numbers)\n",
        "    print(f\"Максимальное значение: {max_value}\")\n",
        "\n",
        "    sorted_asc = sorted(numbers)\n",
        "    print(f\"Список по возрастанию: {sorted_asc}\")\n",
        "\n",
        "    sorted_desc = sorted(numbers, reverse=True)\n",
        "    print(f\"Список по убыванию: {sorted_desc}\")\n",
        "\n",
        "    count = len(numbers)\n",
        "    print(f\"Количество элементов: {count}\")\n",
        "\n",
        "    count_ones = numbers.count(1)\n",
        "    print(f\"Количество единиц: {count_ones}\")\n",
        "\n",
        "    total_sum = sum(numbers)\n",
        "    print(f\"Сумма всех чисел: {total_sum}\")\n",
        "\n",
        "    last_value = numbers[-1]\n",
        "    last_index = len(numbers) - 1\n",
        "    print(f\"Индекс последнего введенного элемента: {last_index}, значение: {last_value}\")\n",
        "else:\n",
        "    print(\"Список пуст.\")\n"
      ],
      "metadata": {
        "id": "W0AjmYTzdPC_"
      },
      "execution_count": null,
      "outputs": []
    }
  ],
  "metadata": {
    "colab": {
      "name": "Добро пожаловать в Colaboratory!",
      "toc_visible": true,
      "provenance": [],
      "include_colab_link": true
    },
    "kernelspec": {
      "display_name": "Python 3",
      "name": "python3"
    }
  },
  "nbformat": 4,
  "nbformat_minor": 0
}