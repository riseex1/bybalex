{
  "cells": [
    {
      "cell_type": "markdown",
      "metadata": {
        "id": "view-in-github",
        "colab_type": "text"
      },
      "source": [
        "<a href=\"https://colab.research.google.com/github/riseex1/bybalex/blob/main/%D0%94%D0%97%20%D0%9D%D0%95%D0%94%D0%95%D0%9B%D0%AF%205%20%D0%A1%D1%82%D0%B5%D1%86%D1%8E%D0%BA%20%D0%98%20%D0%92.ipynb\" target=\"_parent\"><img src=\"https://colab.research.google.com/assets/colab-badge.svg\" alt=\"Open In Colab\"/></a>"
      ]
    },
    {
      "cell_type": "markdown",
      "source": [
        "1 задание"
      ],
      "metadata": {
        "id": "PTwz4nxqKev1"
      }
    },
    {
      "cell_type": "code",
      "source": [
        "numbers = list(map(int, input().split()))\n",
        "\n",
        "seen = set()\n",
        "\n",
        "for num in numbers:\n",
        "    if num in seen:\n",
        "        print(\"YES\")\n",
        "    else:\n",
        "        print(\"NO\")\n",
        "        seen.add(num)\n"
      ],
      "metadata": {
        "id": "ouwsM74xKge0"
      },
      "execution_count": null,
      "outputs": []
    },
    {
      "cell_type": "markdown",
      "source": [
        "2 задание"
      ],
      "metadata": {
        "id": "MMl1-P39KxoU"
      }
    },
    {
      "cell_type": "code",
      "source": [
        "from collections import deque, defaultdict\n",
        "\n",
        "def solve(N, M, lines, A, B):\n",
        "    # Создаем граф, где ключ - это станция, а значение - список станций на той же линии\n",
        "    station_to_lines = defaultdict(list)\n",
        "    for line_index, line in enumerate(lines):\n",
        "        for station in line:\n",
        "            station_to_lines[station].append(line_index)\n",
        "\n",
        "    # Множество для посещенных станций (мы будем хранить станции, посещенные по каждой линии)\n",
        "    visited = set()\n",
        "\n",
        "    # Очередь для BFS: (текущая станция, количество пересадок)\n",
        "    queue = deque([(A, 0)])\n",
        "\n",
        "    while queue:\n",
        "        current_station, transfers = queue.popleft()\n",
        "\n",
        "        # Если мы достигли цели, возвращаем количество пересадок\n",
        "        if current_station == B:\n",
        "            return transfers\n",
        "\n",
        "        # Проходим по всем линиям, через которые проходит текущая станция\n",
        "        for line_index in station_to_lines[current_station]:\n",
        "            # Для каждой линии смотрим все станции\n",
        "            for station in lines[line_index]:\n",
        "                if (station, line_index) not in visited:\n",
        "                    visited.add((station, line_index))\n",
        "                    queue.append((station, transfers + 1))\n",
        "\n",
        "    # Если не нашли путь, выводим -1\n",
        "    return -1\n",
        "\n",
        "# Входные данные\n",
        "N = int(input())  # Количество станций\n",
        "M = int(input())  # Количество линий\n",
        "lines = [list(map(int, input().split()))[1:] for _ in range(M)]  # Структура по каждой линии\n",
        "\n",
        "A, B = map(int, input().split())  # Стартовая станция и конечная\n",
        "\n",
        "# Выводим минимальное количество пересадок\n",
        "print(solve(N, M, lines, A, B))\n"
      ],
      "metadata": {
        "id": "yrWeRs-tKyvV"
      },
      "execution_count": null,
      "outputs": []
    },
    {
      "cell_type": "markdown",
      "source": [
        "3 задание"
      ],
      "metadata": {
        "id": "TQ7OJy1ALGN5"
      }
    },
    {
      "cell_type": "code",
      "source": [
        "N = int(input())\n",
        "\n",
        "city_to_country = {}\n",
        "\n",
        "\n",
        "for _ in range(N):\n",
        "\n",
        "    data = input().split()\n",
        "    country = data[0]\n",
        "    cities = data[1:]\n",
        "\n",
        "    for city in cities:\n",
        "        city_to_country[city] = country\n",
        "\n",
        "M = int(input())\n",
        "\n",
        "for _ in range(M):\n",
        "    city_query = input()\n",
        "    print(city_to_country[city_query])\n"
      ],
      "metadata": {
        "id": "GhAU2tA1LHul"
      },
      "execution_count": null,
      "outputs": []
    },
    {
      "cell_type": "markdown",
      "source": [
        "4 задание"
      ],
      "metadata": {
        "id": "4Jw6_qokLegj"
      }
    },
    {
      "cell_type": "code",
      "source": [
        "votes = {}\n",
        "\n",
        "while True:\n",
        "    try:\n",
        "\n",
        "        line = input().strip()\n",
        "        if not line:\n",
        "            break\n",
        "\n",
        "\n",
        "        parts = line.split()\n",
        "        candidate = parts[0]\n",
        "        votes_count = int(parts[1])\n",
        "\n",
        "\n",
        "        if candidate in votes:\n",
        "            votes[candidate] += votes_count\n",
        "        else:\n",
        "            votes[candidate] = votes_count\n",
        "\n",
        "    except EOFError:\n",
        "        break\n",
        "\n",
        "for candidate in sorted(votes.keys()):\n",
        "    print(f\"{candidate} {votes[candidate]}\")\n"
      ],
      "metadata": {
        "id": "S2z6lzNeLfdK"
      },
      "execution_count": null,
      "outputs": []
    },
    {
      "cell_type": "markdown",
      "source": [
        "5 задание"
      ],
      "metadata": {
        "id": "RAcdz5UZLrhR"
      }
    },
    {
      "cell_type": "code",
      "source": [
        "text = input().lower()\n",
        "\n",
        "words = text.split()\n",
        "\n",
        "word_count = {}\n",
        "\n",
        "for word in words:\n",
        "    if word in word_count:\n",
        "        word_count[word] += 1\n",
        "    else:\n",
        "        word_count[word] = 1\n",
        "\n",
        "sorted_words = sorted(word_count.items(), key=lambda x: (-x[1], x[0]))\n",
        "\n",
        "for word, count in sorted_words:\n",
        "    print(word)\n"
      ],
      "metadata": {
        "id": "7ZAaSL0PLtGF"
      },
      "execution_count": null,
      "outputs": []
    },
    {
      "cell_type": "markdown",
      "source": [
        "6 задание"
      ],
      "metadata": {
        "id": "4j-j3rdRMHw7"
      }
    },
    {
      "cell_type": "code",
      "source": [
        "import math\n",
        "\n",
        "class BankSystem:\n",
        "    def __init__(self):\n",
        "        # Словарь для хранения балансов клиентов\n",
        "        self.accounts = {}\n",
        "\n",
        "    def deposit(self, name, amount):\n",
        "        \"\"\"Пополнение счета клиента.\"\"\"\n",
        "        if name not in self.accounts:\n",
        "            self.accounts[name] = 0\n",
        "        self.accounts[name] += amount\n",
        "\n",
        "    def withdraw(self, name, amount):\n",
        "        \"\"\"Снятие денег с счета клиента.\"\"\"\n",
        "        if name not in self.accounts:\n",
        "            self.accounts[name] = 0\n",
        "        if self.accounts[name] >= amount:\n",
        "            self.accounts[name] -= amount\n",
        "        else:\n",
        "            self.accounts[name] = 0\n",
        "\n",
        "    def balance(self, name):\n",
        "        \"\"\"Запрос остатка средств на счете клиента.\"\"\"\n",
        "        if name not in self.accounts:\n",
        "            return \"ERROR\"\n",
        "        return self.accounts[name]\n",
        "\n",
        "    def transfer(self, name1, name2, amount):\n",
        "        \"\"\"Перевод средств с одного счета на другой.\"\"\"\n",
        "        if name1 not in self.accounts:\n",
        "            self.accounts[name1] = 0\n",
        "        if name2 not in self.accounts:\n",
        "            self.accounts[name2] = 0\n",
        "        if self.accounts[name1] >= amount:\n",
        "            self.accounts[name1] -= amount\n",
        "            self.accounts[name2] += amount\n",
        "\n",
        "    def income(self, percentage):\n",
        "        \"\"\"Начисление процентов всем клиентам с положительным балансом.\"\"\"\n",
        "        for name, balance in self.accounts.items():\n",
        "            if balance > 0:\n",
        "                interest = math.floor(balance * percentage / 100)\n",
        "                self.accounts[name] += interest\n",
        "\n",
        "# Основная функция для обработки операций\n",
        "def process_operations(operations):\n",
        "    bank = BankSystem()\n",
        "    result = []\n",
        "    for operation in operations:\n",
        "        parts = operation.split()\n",
        "        command = parts[0]\n",
        "\n",
        "        if command == \"DEPOSIT\":\n",
        "            name = parts[1]\n",
        "            amount = int(parts[2])\n",
        "            bank.deposit(name, amount)\n",
        "\n",
        "        elif command == \"WITHDRAW\":\n",
        "            name = parts[1]\n",
        "            amount = int(parts[2])\n",
        "            bank.withdraw(name, amount)\n",
        "\n",
        "        elif command == \"BALANCE\":\n",
        "            name = parts[1]\n",
        "            result.append(bank.balance(name))\n",
        "\n",
        "        elif command == \"TRANSFER\":\n",
        "            name1 = parts[1]\n",
        "            name2 = parts[2]\n",
        "            amount = int(parts[3])\n",
        "            bank.transfer(name1, name2, amount)\n",
        "\n",
        "        elif command == \"INCOME\":\n",
        "            percentage = int(parts[1])\n",
        "            bank.income(percentage)\n",
        "\n",
        "    return result\n",
        "\n",
        "# Чтение входных данных и обработка\n",
        "def main():\n",
        "    # Чтение данных с входа\n",
        "    n = int(input())  # количество операций\n",
        "    operations = [input().strip() for _ in range(n)]\n",
        "\n",
        "    # Обработка операций\n",
        "    result = process_operations(operations)\n",
        "\n",
        "    # Вывод результата\n",
        "    for res in result:\n",
        "        print(res)\n",
        "\n",
        "# Пример р\n"
      ],
      "metadata": {
        "id": "tHcgSQC4MIxl"
      },
      "execution_count": null,
      "outputs": []
    },
    {
      "cell_type": "markdown",
      "source": [
        "задание 7"
      ],
      "metadata": {
        "id": "LfQ36yTAMu39"
      }
    },
    {
      "cell_type": "code",
      "source": [
        "def main():\n",
        "    # Ввод данных\n",
        "    N, M, X, Y = map(int, input().split())\n",
        "\n",
        "    # Создаем матрицу размером N x M\n",
        "    matrix = [[0] * M for _ in range(N)]\n",
        "\n",
        "    # Заполняем матрицу по указанному принципу\n",
        "    current_value = 0\n",
        "    for i in range(N):\n",
        "        if i % 2 == 0:\n",
        "            # Если строка четная (считая с 0), заполняем слева направо\n",
        "            for j in range(M):\n",
        "                matrix[i][j] = current_value\n",
        "                current_value += 1\n",
        "        else:\n",
        "            # Если строка нечетная, заполняем справа налево\n",
        "            for j in range(M-1, -1, -1):\n",
        "                matrix[i][j] = current_value\n",
        "                current_value += 1\n",
        "\n",
        "    # Выводим элемент на позиции X, Y (с учетом индексации с 1)\n",
        "    print(matrix[X-1][Y-1])\n",
        "\n",
        "# Вызов основной функции\n",
        "if __name__ == \"__main__\":\n",
        "    main()\n"
      ],
      "metadata": {
        "id": "VWBGbQBkMwPd"
      },
      "execution_count": null,
      "outputs": []
    },
    {
      "cell_type": "markdown",
      "source": [
        "задание 8"
      ],
      "metadata": {
        "id": "4HzmImWnM4KG"
      }
    },
    {
      "cell_type": "code",
      "source": [
        "def main():\n",
        "    # Ввод данных\n",
        "    N = int(input())  # Размер поля\n",
        "    field = [list(map(int, input().split())) for _ in range(N)]\n",
        "\n",
        "    # Таблица динамического программирования\n",
        "    dp = [[0] * N for _ in range(N)]\n",
        "\n",
        "    # Начальная клетка (левая нижняя)\n",
        "    dp[0][0] = field[0][0]\n",
        "\n",
        "    # Заполнение первой строки (движемся только вправо)\n",
        "    for j in range(1, N):\n",
        "        dp[0][j] = dp[0][j-1] + field[0][j]\n",
        "\n",
        "    # Заполнение первого столбца (движемся только вверх)\n",
        "    for i in range(1, N):\n",
        "        dp[i][0] = dp[i-1][0] + field[i][0]\n",
        "\n",
        "    # Заполнение оставшихся клеток\n",
        "    for i in range(1, N):\n",
        "        for j in range(1, N):\n",
        "            dp[i][j] = max(dp[i-1][j], dp[i][j-1]) + field[i][j]\n",
        "\n",
        "    # Ответ - максимальные калории, которые можно собрать в правом верхнем углу\n",
        "    print(dp[N-1][N-1])\n",
        "\n",
        "if __name__ == \"__main__\":\n",
        "    main()\n"
      ],
      "metadata": {
        "id": "jkcFlKSSNBh-"
      },
      "execution_count": null,
      "outputs": []
    },
    {
      "cell_type": "markdown",
      "source": [
        "задание 9"
      ],
      "metadata": {
        "id": "9xhjTS7bNCMp"
      }
    },
    {
      "cell_type": "code",
      "source": [
        "# Ввод данных\n",
        "X = int(input())  # Читаем число X\n",
        "N = int(input())  # Читаем размер таблицы\n",
        "\n",
        "# Читаем таблицу\n",
        "matrix = [list(map(int, input().split())) for _ in range(N)]\n",
        "\n",
        "# Для каждого столбца проверяем наличие числа X\n",
        "for col in range(N):\n",
        "    found = False\n",
        "    for row in range(N):\n",
        "        if matrix[row][col] == X:\n",
        "            found = True\n",
        "            break\n",
        "    if found:\n",
        "        print(\"YES\")\n",
        "    else:\n",
        "        print(\"NO\")\n"
      ],
      "metadata": {
        "id": "gWF8Fnz2NDKU"
      },
      "execution_count": null,
      "outputs": []
    },
    {
      "cell_type": "markdown",
      "source": [
        "задание 10"
      ],
      "metadata": {
        "id": "37NWEaVFNIvR"
      }
    },
    {
      "cell_type": "code",
      "source": [
        "from collections import defaultdict\n",
        "\n",
        "# Считываем данные\n",
        "sales_data = []\n",
        "while True:\n",
        "    try:\n",
        "        line = input().strip()\n",
        "        if line:\n",
        "            sales_data.append(line)\n",
        "    except EOFError:\n",
        "        break\n",
        "\n",
        "# Словарь для хранения информации о покупках\n",
        "purchases = defaultdict(lambda: defaultdict(int))\n",
        "\n",
        "# Обработка строк входных данных\n",
        "for entry in sales_data:\n",
        "    buyer, item, quantity = entry.split()\n",
        "    quantity = int(quantity)\n",
        "    purchases[buyer][item] += quantity\n",
        "\n",
        "# Сортируем покупателей в лексикографическом порядке\n",
        "sorted_buyers = sorted(purchases.keys())\n",
        "\n",
        "# Вывод результата\n",
        "for buyer in sorted_buyers:\n",
        "    print(f\"{buyer}:\")\n",
        "    # Сортируем товары покупателя в лексикографическом порядке\n",
        "    sorted_items = sorted(purchases[buyer].keys())\n",
        "    for item in sorted_items:\n",
        "        print(f\"{item} {purchases[buyer][item]}\")\n"
      ],
      "metadata": {
        "id": "wkvqwC-CNJxl"
      },
      "execution_count": null,
      "outputs": []
    },
    {
      "cell_type": "markdown",
      "source": [
        "задание 11"
      ],
      "metadata": {
        "id": "HdYqk9GoNSpa"
      }
    },
    {
      "cell_type": "code",
      "source": [
        "# Чтение входных данных\n",
        "N = int(input())  # количество файлов\n",
        "file_permissions = {}\n",
        "\n",
        "# Чтение файлов и их разрешений\n",
        "for _ in range(N):\n",
        "    file_info = input().split()\n",
        "    filename = file_info[0]\n",
        "    permissions = set(file_info[1:])  # Множество операций\n",
        "    file_permissions[filename] = permissions\n",
        "\n",
        "# Чтение количества запросов\n",
        "M = int(input())\n",
        "\n",
        "# Обработка запросов\n",
        "for _ in range(M):\n",
        "    query = input().split()\n",
        "    operation, filename = query[0], query[1]\n",
        "\n",
        "    # Проверка разрешения на операцию\n",
        "    if filename in file_permissions and operation in file_permissions[filename]:\n",
        "        print(\"OK\")\n",
        "    else:\n",
        "        print(\"Access denied\")\n"
      ],
      "metadata": {
        "id": "VrC8pu9TNTkH"
      },
      "execution_count": null,
      "outputs": []
    }
  ],
  "metadata": {
    "colab": {
      "name": "Добро пожаловать в Colaboratory!",
      "toc_visible": true,
      "provenance": [],
      "include_colab_link": true
    },
    "kernelspec": {
      "display_name": "Python 3",
      "name": "python3"
    }
  },
  "nbformat": 4,
  "nbformat_minor": 0
}