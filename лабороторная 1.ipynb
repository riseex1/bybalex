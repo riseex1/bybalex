{
  "nbformat": 4,
  "nbformat_minor": 0,
  "metadata": {
    "colab": {
      "provenance": [],
      "authorship_tag": "ABX9TyP6EVUg5KXi4KsJVA26uQfm",
      "include_colab_link": true
    },
    "kernelspec": {
      "name": "python3",
      "display_name": "Python 3"
    },
    "language_info": {
      "name": "python"
    }
  },
  "cells": [
    {
      "cell_type": "markdown",
      "metadata": {
        "id": "view-in-github",
        "colab_type": "text"
      },
      "source": [
        "<a href=\"https://colab.research.google.com/github/riseex1/bybalex/blob/main/%D0%BB%D0%B0%D0%B1%D0%BE%D1%80%D0%BE%D1%82%D0%BE%D1%80%D0%BD%D0%B0%D1%8F%201.ipynb\" target=\"_parent\"><img src=\"https://colab.research.google.com/assets/colab-badge.svg\" alt=\"Open In Colab\"/></a>"
      ]
    },
    {
      "cell_type": "markdown",
      "source": [
        "задание 1"
      ],
      "metadata": {
        "id": "6HCp2k0oO_qE"
      }
    },
    {
      "cell_type": "code",
      "source": [
        "integer_var = 42\n",
        "float_var = 3.14\n",
        "string_var = \"Hello, World!\"\n",
        "boolean_var = True"
      ],
      "metadata": {
        "id": "1rnpE6AlPAZr"
      },
      "execution_count": null,
      "outputs": []
    },
    {
      "cell_type": "markdown",
      "source": [
        "задание 2"
      ],
      "metadata": {
        "id": "fB2LWH78PjJ_"
      }
    },
    {
      "cell_type": "code",
      "source": [
        "name = \"Илья\"\n",
        "age = 18\n",
        "\n",
        "# Вывод значений в консоль\n",
        "print(\"Имя:\", name)\n",
        "print(\"Возраст:\", age)"
      ],
      "metadata": {
        "id": "N5ZPvdDBPkCs"
      },
      "execution_count": null,
      "outputs": []
    },
    {
      "cell_type": "markdown",
      "source": [
        "задание 3"
      ],
      "metadata": {
        "id": "JIfFBbdGPq9I"
      }
    },
    {
      "cell_type": "code",
      "source": [
        "num1 = 342\n",
        "num2 = 56.2\n",
        "num3 = '43'\n",
        "\n",
        "sum_result = num1 + num2 + int(num3)\n",
        "\n",
        "print(\"Сумма:\", sum_result)"
      ],
      "metadata": {
        "id": "yBuFuHBaPsJ6"
      },
      "execution_count": null,
      "outputs": []
    },
    {
      "cell_type": "markdown",
      "source": [
        "задание 4"
      ],
      "metadata": {
        "id": "ldYe_eYKQT66"
      }
    },
    {
      "cell_type": "code",
      "source": [
        "a = 3\n",
        "b = 8\n",
        "\n",
        "result = (a + 4 * b) * (a - 3 * b) + a ** 2\n",
        "\n",
        "print(\"Результат уравнения:\", result)"
      ],
      "metadata": {
        "id": "jVOEFM_IQUw7"
      },
      "execution_count": null,
      "outputs": []
    },
    {
      "cell_type": "markdown",
      "source": [
        "задание 5"
      ],
      "metadata": {
        "id": "cAkdSvBtQZiH"
      }
    },
    {
      "cell_type": "code",
      "source": [
        "length = float(input(\"Введите длину прямоугольника: \"))\n",
        "width = float(input(\"Введите ширину прямоугольника: \"))\n",
        "\n",
        "area = length * width\n",
        "perimeter = 2 * (length + width)\n",
        "\n",
        "print(\"Площадь прямоугольника:\", area)\n",
        "print(\"Периметр прямоугольника:\", perimeter)"
      ],
      "metadata": {
        "id": "zBHHv0qKQe-k"
      },
      "execution_count": null,
      "outputs": []
    },
    {
      "cell_type": "markdown",
      "source": [
        "задание 6"
      ],
      "metadata": {
        "id": "Ju5GRThZQjhF"
      }
    },
    {
      "cell_type": "code",
      "source": [
        "print(\"*   *   *\")\n",
        "print(\" * * * *\")\n",
        "print(\"  *   *\")"
      ],
      "metadata": {
        "colab": {
          "base_uri": "https://localhost:8080/"
        },
        "id": "RXbcvIrcQkes",
        "outputId": "207c4a7d-7838-4e0d-e3ac-8a86ef1126c1"
      },
      "execution_count": 1,
      "outputs": [
        {
          "output_type": "stream",
          "name": "stdout",
          "text": [
            "*   *   *\n",
            " * * * *\n",
            "  *   *\n"
          ]
        }
      ]
    },
    {
      "cell_type": "markdown",
      "source": [
        "задание 7"
      ],
      "metadata": {
        "id": "Y4yGYi8yQsFA"
      }
    },
    {
      "cell_type": "code",
      "source": [
        "x = 10\n",
        "y = 5\n",
        "\n",
        "# Арифметические операции\n",
        "print(\"Сложение:\", x + y)\n",
        "print(\"Вычитание:\", x - y)\n",
        "print(\"Умножение:\", x * y)\n",
        "print(\"Деление:\", x / y)\n",
        "print(\"Целочисленное деление:\", x // y)\n",
        "print(\"Остаток от деления:\", x % y)\n",
        "print(\"Возведение в степень:\", x ** y)\n",
        "\n",
        "# Операторы сравнения\n",
        "print(\"Равно:\", x == y)\n",
        "print(\"Не равно:\", x != y)\n",
        "print(\"Больше:\", x > y)\n",
        "print(\"Меньше:\", x < y)\n",
        "print(\"Больше или равно:\", x >= y)\n",
        "print(\"Меньше или равно:\", x <= y)"
      ],
      "metadata": {
        "id": "9ClK-edGQum9"
      },
      "execution_count": null,
      "outputs": []
    },
    {
      "cell_type": "markdown",
      "source": [
        "задание 8"
      ],
      "metadata": {
        "id": "w2zciu-sQy0o"
      }
    },
    {
      "cell_type": "code",
      "source": [
        "name = \"Иван\"\n",
        "age = 25\n",
        "\n",
        "print(f\"Меня зовут {name}, мне {age} лет.\")"
      ],
      "metadata": {
        "id": "H--CLiaIQz-t"
      },
      "execution_count": null,
      "outputs": []
    },
    {
      "cell_type": "markdown",
      "source": [
        "задание 9"
      ],
      "metadata": {
        "id": "6o6NJjz_Q3wU"
      }
    },
    {
      "cell_type": "code",
      "source": [
        "word1 = \"Съешь\"\n",
        "word2 = \"ещё\"\n",
        "word3 = \"этих\"\n",
        "word4 = \"мягких\"\n",
        "word5 = \"французских\"\n",
        "word6 = \"булок,\"\n",
        "word7 = \"да\"\n",
        "word8 = \"выпей\"\n",
        "word9 = \"чаю\"\n",
        "\n",
        "sentence = word1 + \" \" + word2 + \" \" + word3 + \" \" + word4 + \" \" + word5 + \" \" + word6 + \" \" + word7 + \" \" + word8 + \" \" + word9\n",
        "\n",
        "print(sentence)"
      ],
      "metadata": {
        "id": "3-aykD2OQ4y3"
      },
      "execution_count": null,
      "outputs": []
    },
    {
      "cell_type": "markdown",
      "source": [
        "задание 10"
      ],
      "metadata": {
        "id": "5K-zhmkDQ8oV"
      }
    },
    {
      "cell_type": "code",
      "source": [
        "sentence = (\"Нет! Да! \" * 4).strip()\n",
        "\n",
        "print(sentence)"
      ],
      "metadata": {
        "id": "ijMp-t8vQ-MI"
      },
      "execution_count": null,
      "outputs": []
    },
    {
      "cell_type": "markdown",
      "source": [
        "задание 11"
      ],
      "metadata": {
        "id": "dlXdCDorRC8U"
      }
    },
    {
      "cell_type": "code",
      "source": [
        "numbers = input(\"Введите три числа, разделённых запятой: \")\n",
        "\n",
        "num1, num2, num3 = map(int, numbers.split(','))\n",
        "\n",
        "result = (num1 + num3) // num2\n",
        "\n",
        "print(f\"Результат вычисления: {result}\")"
      ],
      "metadata": {
        "id": "HXP-WbgFREHs"
      },
      "execution_count": null,
      "outputs": []
    },
    {
      "cell_type": "markdown",
      "source": [
        "задание 12"
      ],
      "metadata": {
        "id": "iJ2N_aCtRIrA"
      }
    },
    {
      "cell_type": "code",
      "source": [
        "word = input(\"Введите слово (не менее 10 символов): \")\n",
        "\n",
        "print(\"Первые 4 символа:\", word[:4])\n",
        "print(\"Последние 2 символа:\", word[-2:])\n",
        "print(\"Символы от 4 до 8:\", word[4:8])\n",
        "print(\"Перевёрнутое слово:\", word[::-1])"
      ],
      "metadata": {
        "id": "RaY4mS5SRJvY"
      },
      "execution_count": null,
      "outputs": []
    }
  ]
}