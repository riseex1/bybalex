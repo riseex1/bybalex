{
  "nbformat": 4,
  "nbformat_minor": 0,
  "metadata": {
    "colab": {
      "provenance": [],
      "authorship_tag": "ABX9TyPFJSLHLWXZa/qOV6V3KwV1",
      "include_colab_link": true
    },
    "kernelspec": {
      "name": "python3",
      "display_name": "Python 3"
    },
    "language_info": {
      "name": "python"
    }
  },
  "cells": [
    {
      "cell_type": "markdown",
      "metadata": {
        "id": "view-in-github",
        "colab_type": "text"
      },
      "source": [
        "<a href=\"https://colab.research.google.com/github/riseex1/bybalex/blob/main/%D0%9D%D0%B5%D0%B4%D0%B5%D0%BB%D1%8F_3_%D0%A1%D1%82%D0%B5%D1%86%D1%8E%D0%BA%D0%98%D0%92.ipynb\" target=\"_parent\"><img src=\"https://colab.research.google.com/assets/colab-badge.svg\" alt=\"Open In Colab\"/></a>"
      ]
    },
    {
      "cell_type": "code",
      "execution_count": null,
      "metadata": {
        "id": "w-qNyFkwghYK"
      },
      "outputs": [],
      "source": [
        "задание 1"
      ]
    },
    {
      "cell_type": "code",
      "source": [
        "a = input(\"Введите строку a: \")\n",
        "b = input(\"Введите строку b: \")\n",
        "\n",
        "a_lower = a.lower()\n",
        "b_lower = b.lower()\n",
        "\n",
        "index = a_lower.find(b_lower)\n",
        "\n",
        "if index != -1:\n",
        "    substring = a[index:index + len(b)]\n",
        "    print(index)\n",
        "    print(substring)"
      ],
      "metadata": {
        "id": "rEKvB9GWgjaV"
      },
      "execution_count": null,
      "outputs": []
    },
    {
      "cell_type": "markdown",
      "source": [
        "задание 2"
      ],
      "metadata": {
        "id": "_abrvoHHjHIj"
      }
    },
    {
      "cell_type": "code",
      "source": [
        "a = input(\"Введите строку: \")\n",
        "\n",
        "substrings = a.split(',')\n",
        "\n",
        "lengths = [len(substring) for substring in substrings]\n",
        "\n",
        "print(','.join(map(str, lengths)))"
      ],
      "metadata": {
        "id": "FVTsdI_FjIIH"
      },
      "execution_count": null,
      "outputs": []
    },
    {
      "cell_type": "markdown",
      "source": [
        "задание 3"
      ],
      "metadata": {
        "id": "XYlE2UDljubE"
      }
    },
    {
      "cell_type": "code",
      "source": [
        "stroka = input(\"Введите строку: \")\n",
        "n = int(input(\"Введите индекс n: \"))\n",
        "m = int(input(\"Введите индекс m: \"))\n",
        "\n",
        "words = ''.join(char if char.isalnum() or char.isspace() else ' ' for char in stroka).split()\n",
        "\n",
        "array_to_n = words[:n]\n",
        "\n",
        "array_from_m = words[m:]\n",
        "\n",
        "print(array_to_n, array_from_m)"
      ],
      "metadata": {
        "id": "hOnyvuP_jvW1"
      },
      "execution_count": null,
      "outputs": []
    }
  ]
}