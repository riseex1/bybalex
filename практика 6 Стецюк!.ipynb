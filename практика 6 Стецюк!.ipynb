{
  "cells": [
    {
      "cell_type": "markdown",
      "metadata": {
        "id": "view-in-github",
        "colab_type": "text"
      },
      "source": [
        "<a href=\"https://colab.research.google.com/github/riseex1/bybalex/blob/main/%D0%BF%D1%80%D0%B0%D0%BA%D1%82%D0%B8%D0%BA%D0%B0%206%20%D0%A1%D1%82%D0%B5%D1%86%D1%8E%D0%BA!.ipynb\" target=\"_parent\"><img src=\"https://colab.research.google.com/assets/colab-badge.svg\" alt=\"Open In Colab\"/></a>"
      ]
    },
    {
      "cell_type": "markdown",
      "source": [
        "задание 1"
      ],
      "metadata": {
        "id": "-C3hFBxaeWXl"
      }
    },
    {
      "cell_type": "code",
      "source": [
        "m = int(input(\"Введите начальное число (m): \"))\n",
        "n = int(input(\"Введите конечное число (n): \"))\n",
        "\n",
        "total_sum = sum(range(m, n + 1))\n",
        "\n",
        "print(f\"Сумма чисел от {m} до {n}: {total_sum}\")"
      ],
      "metadata": {
        "id": "JJ-S92zleXgI"
      },
      "execution_count": null,
      "outputs": []
    },
    {
      "cell_type": "markdown",
      "source": [
        "задание 2"
      ],
      "metadata": {
        "id": "GzbqwJdveb5f"
      }
    },
    {
      "cell_type": "code",
      "source": [
        "while True:\n",
        "\n",
        "    m = int(input(\"Введите число m: \"))\n",
        "    n = int(input(\"Введите число n: \"))\n",
        "\n",
        "    if m == n:\n",
        "        print(\"m и n равны. Завершаем программу.\")\n",
        "        break\n",
        "\n",
        "    sum_result = m + n\n",
        "    print(f\"Сумма чисел {m} и {n} = {sum_result}\")\n"
      ],
      "metadata": {
        "id": "CGDYptfhedQY"
      },
      "execution_count": null,
      "outputs": []
    },
    {
      "cell_type": "markdown",
      "source": [
        "задание 3.1"
      ],
      "metadata": {
        "id": "sjBs8nIGegz9"
      }
    },
    {
      "cell_type": "code",
      "source": [
        "with open(\"input.txt\") as file:\n",
        "    count = sum(1 for line in file)\n",
        "\n",
        "print(f\"Количество строк в файле: {count}\")\n",
        "\n",
        "\n"
      ],
      "metadata": {
        "id": "30d6SXAceh4q"
      },
      "execution_count": null,
      "outputs": []
    },
    {
      "cell_type": "markdown",
      "source": [
        "задание 3.2"
      ],
      "metadata": {
        "id": "3AwcXwO3eqGL"
      }
    },
    {
      "cell_type": "code",
      "source": [
        "with open(\"input.txt\", \"r\", encoding=\"utf-8\") as file:\n",
        "\n",
        "    words = file.read().split()\n",
        "\n",
        "word_count = len(words)\n",
        "\n",
        "print(f\"Количество слов в файле: {word_count}\")\n",
        "\n"
      ],
      "metadata": {
        "id": "nAA1Tx4xer4h"
      },
      "execution_count": null,
      "outputs": []
    }
  ],
  "metadata": {
    "colab": {
      "name": "Добро пожаловать в Colaboratory!",
      "toc_visible": true,
      "provenance": [],
      "include_colab_link": true
    },
    "kernelspec": {
      "display_name": "Python 3",
      "name": "python3"
    }
  },
  "nbformat": 4,
  "nbformat_minor": 0
}