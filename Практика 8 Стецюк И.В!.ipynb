{
  "cells": [
    {
      "cell_type": "markdown",
      "metadata": {
        "id": "view-in-github",
        "colab_type": "text"
      },
      "source": [
        "<a href=\"https://colab.research.google.com/github/riseex1/bybalex/blob/main/%D0%9F%D1%80%D0%B0%D0%BA%D1%82%D0%B8%D0%BA%D0%B0%208%20%D0%A1%D1%82%D0%B5%D1%86%D1%8E%D0%BA%20%D0%98.%D0%92!.ipynb\" target=\"_parent\"><img src=\"https://colab.research.google.com/assets/colab-badge.svg\" alt=\"Open In Colab\"/></a>"
      ]
    },
    {
      "cell_type": "markdown",
      "source": [
        "1 задание"
      ],
      "metadata": {
        "id": "T1lvYLyrfwZG"
      }
    },
    {
      "cell_type": "code",
      "source": [
        "import numpy as np\n",
        "\n",
        "# Вводим размерность матрицы\n",
        "n = int(input(\"Введите размерность матрицы n: \"))\n",
        "\n",
        "# Создаем матрицу размером n x n с последовательно идущими числами\n",
        "matrix = np.arange(1, n * n + 1).reshape(n, n)\n",
        "\n",
        "# Выводим матрицу\n",
        "for row in matrix:\n",
        "    print(\" \".join(map(str, row)))\n",
        "\n",
        "# Вычисляем определитель матрицы\n",
        "det = np.linalg.det(matrix)\n",
        "\n",
        "# Выводим определитель\n",
        "print(f\"Определитель матрицы: {det:.2f}\")\n"
      ],
      "metadata": {
        "id": "XnoyXkWIfxz-"
      },
      "execution_count": null,
      "outputs": []
    },
    {
      "cell_type": "markdown",
      "source": [
        "2 задание"
      ],
      "metadata": {
        "id": "3fz2m_TJfyw8"
      }
    },
    {
      "cell_type": "code",
      "source": [
        "students_scores = [\n",
        "    ['Петров', 78, 93, 61],    # Петров: баллы по 3 предметам\n",
        "    ['Иванов', 56, 67, 73],    # Иванов: баллы по 3 предметам\n",
        "    ['Сидорова', 61, 75, 70]   # Сидорова: баллы по 3 предметам\n",
        "]\n",
        "\n",
        "# Для каждого ученика вычисляем его средний балл\n",
        "students_averages = [(student[0], sum(student[1:]) / len(student[1:])) for student in students_scores]\n",
        "\n",
        "# Находим ученика с наибольшим средним баллом\n",
        "best_student = max(students_averages, key=lambda x: x[1])\n",
        "\n",
        "# Выводим результат\n",
        "print(f\"Ученик с наибольшим средним баллом: {best_student[0]} ({best_student[1]:.2f})\")\n",
        "\n",
        "# Данные о учениках\n",
        "data = [\n",
        "    [\"Фио\", \"Балы по программированию\", \"Балл по ОБЖ\", \"Балл по алгебре\"],\n",
        "    ['Петров', 78, 93, 61],\n",
        "    ['Иванов', 56, 67, 73],\n",
        "    ['Сидорова', 61, 75, 70]\n",
        "]\n",
        "\n",
        "# Считаем средний балл по каждому предмету\n",
        "averages = [sum([data[i][j] for i in range(1, len(data))]) / (len(data) - 1) for j in range(1, len(data[0]))]\n",
        "\n",
        "# Находим индекс максимального среднего балла\n",
        "max_index = averages.index(max(averages))\n",
        "\n",
        "# Выводим результат\n",
        "print(f\"Предмет с самым высоким средним баллом: {data[0][max_index + 1]}\")\n"
      ],
      "metadata": {
        "id": "-uKFHoNuf0B4"
      },
      "execution_count": null,
      "outputs": []
    }
  ],
  "metadata": {
    "colab": {
      "name": "Добро пожаловать в Colaboratory!",
      "toc_visible": true,
      "provenance": [],
      "include_colab_link": true
    },
    "kernelspec": {
      "display_name": "Python 3",
      "name": "python3"
    }
  },
  "nbformat": 4,
  "nbformat_minor": 0
}