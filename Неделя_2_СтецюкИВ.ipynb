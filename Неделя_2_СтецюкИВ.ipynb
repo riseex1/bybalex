{
  "nbformat": 4,
  "nbformat_minor": 0,
  "metadata": {
    "colab": {
      "provenance": [],
      "authorship_tag": "ABX9TyNYT5WK9dhtStyRt3aI/LqE",
      "include_colab_link": true
    },
    "kernelspec": {
      "name": "python3",
      "display_name": "Python 3"
    },
    "language_info": {
      "name": "python"
    }
  },
  "cells": [
    {
      "cell_type": "markdown",
      "metadata": {
        "id": "view-in-github",
        "colab_type": "text"
      },
      "source": [
        "<a href=\"https://colab.research.google.com/github/riseex1/bybalex/blob/main/%D0%9D%D0%B5%D0%B4%D0%B5%D0%BB%D1%8F_2_%D0%A1%D1%82%D0%B5%D1%86%D1%8E%D0%BA%D0%98%D0%92.ipynb\" target=\"_parent\"><img src=\"https://colab.research.google.com/assets/colab-badge.svg\" alt=\"Open In Colab\"/></a>"
      ]
    },
    {
      "cell_type": "markdown",
      "source": [
        "Задание 1"
      ],
      "metadata": {
        "id": "V2hisyxrWJt0"
      }
    },
    {
      "cell_type": "code",
      "source": [
        "import math\n",
        "\n",
        "a = int(input(\"Введите длину первого катета (a): \"))\n",
        "b = int(input(\"Введите длину второго катета (b): \"))\n",
        "\n",
        "\n",
        "hypotenuse = math.sqrt(a**2 + b**2)\n",
        "\n",
        "print(f\"Гипотенуза треугольника с катетами {a} и {b} равна {hypotenuse:.2f}\")"
      ],
      "metadata": {
        "id": "Sr84NXu4WNyy"
      },
      "execution_count": null,
      "outputs": []
    },
    {
      "cell_type": "markdown",
      "source": [
        "задание 2"
      ],
      "metadata": {
        "id": "ex0xT7pxWRAv"
      }
    },
    {
      "cell_type": "code",
      "source": [
        "number = int(input(\"Введите целое число: \"))\n",
        "\n",
        "next_number = number + 1\n",
        "previous_number = number - 1\n",
        "\n",
        "print(\"Следующее число за числом\", number, \"это\", next_number, \".\", sep=\" \")\n",
        "print(\"предыдущее число для\", number, \"это\", previous_number, \".\", sep=\" \")"
      ],
      "metadata": {
        "id": "JXaMxCLPWScn"
      },
      "execution_count": null,
      "outputs": []
    },
    {
      "cell_type": "markdown",
      "source": [
        "задание 3"
      ],
      "metadata": {
        "id": "nTbTVgT5XIgl"
      }
    },
    {
      "cell_type": "code",
      "source": [
        "number = input(\"Введите четырехзначное число: \")\n",
        "\n",
        "if len(number) == 4 and number.isdigit():\n",
        "\n",
        "    if number == number[::-1]:\n",
        "        print(1)\n",
        "    else:\n",
        "        print(0)\n",
        "else:\n",
        "    print(0)"
      ],
      "metadata": {
        "id": "b7VE3oUfXJ5O"
      },
      "execution_count": null,
      "outputs": []
    },
    {
      "cell_type": "markdown",
      "source": [
        "задание 4"
      ],
      "metadata": {
        "id": "dKuwCsgHXwd5"
      }
    },
    {
      "cell_type": "code",
      "source": [
        "h, a, b = map(int, input().split())\n",
        "\n",
        "days = (h - b + (a - b) - 1) // (a - b)\n",
        "\n",
        "days += 1\n",
        "\n",
        "print(days)"
      ],
      "metadata": {
        "id": "WWFHr_ObXxir"
      },
      "execution_count": null,
      "outputs": []
    },
    {
      "cell_type": "markdown",
      "source": [
        "задание 5"
      ],
      "metadata": {
        "id": "0VsuaYlcZMSB"
      }
    },
    {
      "cell_type": "code",
      "source": [
        "n = int(input(\"Введите количество секунд: \"))\n",
        "\n",
        "hours = (n // 3600) % 24\n",
        "minutes = (n % 3600) // 60\n",
        "seconds = n % 60\n",
        "\n",
        "formatted_time = f\"{hours}:{minutes:02}:{seconds:02}\"\n",
        "\n",
        "print(formatted_time)"
      ],
      "metadata": {
        "id": "uXqyr5j5ZOOm"
      },
      "execution_count": null,
      "outputs": []
    },
    {
      "cell_type": "markdown",
      "source": [
        "задание 6"
      ],
      "metadata": {
        "id": "-BgJeYVGZoKr"
      }
    },
    {
      "cell_type": "code",
      "source": [
        "h1, m1, s1 = map(int, input(\"Введите первый момент времени (часы, минуты, секунды): \").split())\n",
        "\n",
        "h2, m2, s2 = map(int, input(\"Введите второй момент времени (часы, минуты, секунды): \").split())\n",
        "\n",
        "time1_in_seconds = h1 * 3600 + m1 * 60 + s1\n",
        "time2_in_seconds = h2 * 3600 + m2 * 60 + s2\n",
        "\n",
        "difference_in_seconds = time2_in_seconds - time1_in_seconds\n",
        "\n",
        "print(difference_in_seconds)"
      ],
      "metadata": {
        "id": "ZZqUHddcZpGE"
      },
      "execution_count": null,
      "outputs": []
    },
    {
      "cell_type": "markdown",
      "source": [
        "задание 7"
      ],
      "metadata": {
        "id": "uxrERQELaGjJ"
      }
    },
    {
      "cell_type": "code",
      "source": [
        "a = int(input(\"Введите значение a: \"))\n",
        "b = int(input(\"Введите значение b: \"))\n",
        "\n",
        "temp = a\n",
        "a = b\n",
        "b = temp\n",
        "\n",
        "print(a, b)"
      ],
      "metadata": {
        "id": "BJHHt5VWaIXV"
      },
      "execution_count": null,
      "outputs": []
    },
    {
      "cell_type": "markdown",
      "source": [
        "задание 8"
      ],
      "metadata": {
        "id": "QLFKbgigaiSH"
      }
    },
    {
      "cell_type": "code",
      "source": [
        "n, k = map(int, input().split())\n",
        "\n",
        "apples_per_student = k // n\n",
        "\n",
        "remaining_apples = k % n\n",
        "\n",
        "students_with_less_apples = remaining_apples\n",
        "\n",
        "print(students_with_less_apples)"
      ],
      "metadata": {
        "id": "IsMAgPdPajZR"
      },
      "execution_count": null,
      "outputs": []
    },
    {
      "cell_type": "markdown",
      "source": [
        "задание 9"
      ],
      "metadata": {
        "id": "tyymW-E4bWhR"
      }
    },
    {
      "cell_type": "code",
      "source": [
        "number = input(\"Введите трехзначное число: \")\n",
        "\n",
        "digit_sum = int(number[0]) + int(number[1]) + int(number[2])\n",
        "\n",
        "print(digit_sum)"
      ],
      "metadata": {
        "id": "u1tbnj9NbXyc"
      },
      "execution_count": null,
      "outputs": []
    }
  ]
}