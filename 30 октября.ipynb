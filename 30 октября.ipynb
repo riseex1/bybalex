{
  "cells": [
    {
      "cell_type": "markdown",
      "metadata": {
        "id": "view-in-github",
        "colab_type": "text"
      },
      "source": [
        "<a href=\"https://colab.research.google.com/github/riseex1/bybalex/blob/main/30%20%D0%BE%D0%BA%D1%82%D1%8F%D0%B1%D1%80%D1%8F.ipynb\" target=\"_parent\"><img src=\"https://colab.research.google.com/assets/colab-badge.svg\" alt=\"Open In Colab\"/></a>"
      ]
    },
    {
      "cell_type": "markdown",
      "source": [
        "задание 1"
      ],
      "metadata": {
        "id": "CIuhGi8tUL7d"
      }
    },
    {
      "cell_type": "code",
      "source": [
        "numbers = []\n",
        "\n",
        "while True:\n",
        "    num = float(input(\"Введите число (или 0 для завершения): \"))\n",
        "    if num == 0:\n",
        "        break\n",
        "    if 2 < num < 5:\n",
        "        numbers.append(num)\n",
        "\n",
        "print(\"Числа в диапазоне от 2 до 5:\", numbers)"
      ],
      "metadata": {
        "id": "NczVV8YwUNN5"
      },
      "execution_count": null,
      "outputs": []
    },
    {
      "cell_type": "markdown",
      "source": [
        "задание 2"
      ],
      "metadata": {
        "id": "PsZ2I5i2WPXl"
      }
    },
    {
      "cell_type": "code",
      "source": [
        "numbers = []\n",
        "\n",
        "while True:\n",
        "    num = float(input(\"Введите число (или 0 для завершения): \"))\n",
        "    if num == 0:\n",
        "        break\n",
        "    if 0 < num < 190000000:\n",
        "        numbers.append(num)\n",
        "\n",
        "if numbers:\n",
        "    average = sum(numbers) / len(numbers)\n",
        "    print(\"Среднее значение этих чисел:\", average)\n"
      ],
      "metadata": {
        "id": "nrJa_Y_tWReE"
      },
      "execution_count": null,
      "outputs": []
    },
    {
      "cell_type": "markdown",
      "source": [
        "задание 3"
      ],
      "metadata": {
        "id": "ikIg7UF5ZN2e"
      }
    },
    {
      "cell_type": "code",
      "source": [
        "a = float(input(\"Введите число a: \"))\n",
        "b = float(input(\"Введите число b: \"))\n",
        "\n",
        "result = (b != 0 and a / b) or \"деление невозможно\"\n",
        "\n",
        "print(result)"
      ],
      "metadata": {
        "id": "osxunTb0ZPSo"
      },
      "execution_count": null,
      "outputs": []
    }
  ],
  "metadata": {
    "colab": {
      "name": "Добро пожаловать в Colaboratory!",
      "toc_visible": true,
      "provenance": [],
      "include_colab_link": true
    },
    "kernelspec": {
      "display_name": "Python 3",
      "name": "python3"
    }
  },
  "nbformat": 4,
  "nbformat_minor": 0
}