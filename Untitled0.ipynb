{
  "nbformat": 4,
  "nbformat_minor": 0,
  "metadata": {
    "colab": {
      "provenance": [],
      "authorship_tag": "ABX9TyNvwRoEb1d2JM1tKMBNxLgy",
      "include_colab_link": true
    },
    "kernelspec": {
      "name": "python3",
      "display_name": "Python 3"
    },
    "language_info": {
      "name": "python"
    }
  },
  "cells": [
    {
      "cell_type": "markdown",
      "metadata": {
        "id": "view-in-github",
        "colab_type": "text"
      },
      "source": [
        "<a href=\"https://colab.research.google.com/github/riseex1/bybalex/blob/main/Untitled0.ipynb\" target=\"_parent\"><img src=\"https://colab.research.google.com/assets/colab-badge.svg\" alt=\"Open In Colab\"/></a>"
      ]
    },
    {
      "cell_type": "markdown",
      "source": [
        "1 задание"
      ],
      "metadata": {
        "id": "LN_94oPMQfNV"
      }
    },
    {
      "cell_type": "code",
      "source": [
        "a = 3\n",
        "b = 4\n",
        "c = ((a*b) / 2)\n",
        "print (c)"
      ],
      "metadata": {
        "id": "cxTMgGCyQhlA"
      },
      "execution_count": null,
      "outputs": []
    },
    {
      "cell_type": "markdown",
      "source": [
        "2 задание"
      ],
      "metadata": {
        "id": "WvCaJTi4QkXq"
      }
    },
    {
      "cell_type": "code",
      "source": [
        "from random import randint\n",
        "n=randint(100,1000)\n",
        "print(n)\n",
        "print( (n//100,n//10%10,n%10))"
      ],
      "metadata": {
        "id": "6Fw6fL4NQmRw"
      },
      "execution_count": null,
      "outputs": []
    },
    {
      "cell_type": "markdown",
      "source": [
        "3  задание"
      ],
      "metadata": {
        "id": "al4KfHZcQpU7"
      }
    },
    {
      "cell_type": "code",
      "source": [
        "def convert_seconds(seconds):\n",
        "    hours = seconds // 3600\n",
        "    minutes = (seconds % 3600) // 60\n",
        "    remaining_seconds = seconds % 60\n",
        "    return f\"{hours}:{minutes}:{remaining_seconds}\"\n",
        "\n",
        "print(convert_seconds(36000))"
      ],
      "metadata": {
        "id": "0TwrwaP0Qq9u"
      },
      "execution_count": null,
      "outputs": []
    }
  ]
}