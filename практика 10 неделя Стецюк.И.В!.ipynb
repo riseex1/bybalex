{
  "cells": [
    {
      "cell_type": "markdown",
      "metadata": {
        "id": "view-in-github",
        "colab_type": "text"
      },
      "source": [
        "<a href=\"https://colab.research.google.com/github/riseex1/bybalex/blob/main/%D0%BF%D1%80%D0%B0%D0%BA%D1%82%D0%B8%D0%BA%D0%B0%2010%20%D0%BD%D0%B5%D0%B4%D0%B5%D0%BB%D1%8F%20%D0%A1%D1%82%D0%B5%D1%86%D1%8E%D0%BA.%D0%98.%D0%92!.ipynb\" target=\"_parent\"><img src=\"https://colab.research.google.com/assets/colab-badge.svg\" alt=\"Open In Colab\"/></a>"
      ]
    },
    {
      "cell_type": "markdown",
      "source": [
        "1 задание"
      ],
      "metadata": {
        "id": "cUf8qHxOwCKm"
      }
    },
    {
      "cell_type": "code",
      "source": [
        "# Инициализируем пустые структуры данных\n",
        "counter = {}\n",
        "unique_values = []\n",
        "\n",
        "# Чтение чисел с клавиатуры до тех пор, пока не введен \"0\"\n",
        "while True:\n",
        "    value = input(\"Введите число (или '0' для завершения): \")\n",
        "\n",
        "    # Проверяем, если введено \"0\", выходим из цикла\n",
        "    if value == '0':\n",
        "        break\n",
        "\n",
        "    # Если значение уже встречалось, увеличиваем его счетчик\n",
        "    if value in counter:\n",
        "        counter[value] += 1\n",
        "    else:\n",
        "        counter[value] = 1\n",
        "        unique_values.append(value)\n",
        "\n",
        "# Выводим результаты\n",
        "print(\"Словарь частот значений:\", counter)\n",
        "print(\"Список уникальных значений:\", unique_values)\n"
      ],
      "metadata": {
        "id": "CmAueJskwDnL"
      },
      "execution_count": null,
      "outputs": []
    },
    {
      "cell_type": "markdown",
      "source": [
        "2 задание с + баллом"
      ],
      "metadata": {
        "id": "lCEIWbgSwPAh"
      }
    },
    {
      "cell_type": "code",
      "source": [
        "# Инициализация телефонной книги как пустого словаря\n",
        "phone_book = {}\n",
        "\n",
        "# Функция для добавления новой записи\n",
        "def add_entry():\n",
        "    name = input(\"Введите имя: \")\n",
        "    phone_number = input(\"Введите номер телефона: \")\n",
        "    phone_book[name] = phone_number\n",
        "    print(f\"Запись для {name} добавлена.\")\n",
        "\n",
        "# Функция для поиска номера телефона по имени\n",
        "def get_phone_number():\n",
        "    name = input(\"Введите имя для поиска номера телефона: \")\n",
        "    if name in phone_book:\n",
        "        print(f\"Номер телефона для {name}: {phone_book[name]}\")\n",
        "    else:\n",
        "        print(f\"Запись для {name} не найдена.\")\n",
        "\n",
        "# Главная функция программы\n",
        "def main():\n",
        "    while True:\n",
        "        command = input(\"Введите команду (add для добавления, who для поиска, exit для выхода): \")\n",
        "\n",
        "        if command == \"add\":\n",
        "            add_entry()\n",
        "        elif command == \"who\":\n",
        "            get_phone_number()\n",
        "        elif command == \"exit\":\n",
        "            print(\"Выход из программы.\")\n",
        "            break\n",
        "        else:\n",
        "            print(\"Неизвестная команда. Пожалуйста, введите 'add', 'who' или 'exit'.\")\n",
        "\n",
        "# Запуск программы\n",
        "main()\n"
      ],
      "metadata": {
        "id": "x_yuQ8EQwdDz"
      },
      "execution_count": null,
      "outputs": []
    }
  ],
  "metadata": {
    "colab": {
      "name": "Добро пожаловать в Colaboratory!",
      "toc_visible": true,
      "provenance": [],
      "include_colab_link": true
    },
    "kernelspec": {
      "display_name": "Python 3",
      "name": "python3"
    }
  },
  "nbformat": 4,
  "nbformat_minor": 0
}